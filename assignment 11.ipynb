{
 "cells": [
  {
   "cell_type": "markdown",
   "id": "4e3a779b",
   "metadata": {},
   "source": [
    "# assignment 11"
   ]
  },
  {
   "cell_type": "raw",
   "id": "793129e1",
   "metadata": {},
   "source": [
    "1)Create an assert statement that throws an AssertionError if the variable spam is a negative integer."
   ]
  },
  {
   "cell_type": "code",
   "execution_count": 10,
   "id": "2208bd75",
   "metadata": {},
   "outputs": [
    {
     "name": "stdout",
     "output_type": "stream",
     "text": [
      "-9\n"
     ]
    },
    {
     "ename": "AssertionError",
     "evalue": "enter positive number",
     "output_type": "error",
     "traceback": [
      "\u001b[1;31m---------------------------------------------------------------------------\u001b[0m",
      "\u001b[1;31mAssertionError\u001b[0m                            Traceback (most recent call last)",
      "Input \u001b[1;32mIn [10]\u001b[0m, in \u001b[0;36m<cell line: 2>\u001b[1;34m()\u001b[0m\n\u001b[0;32m      1\u001b[0m spam\u001b[38;5;241m=\u001b[39m\u001b[38;5;28mint\u001b[39m(\u001b[38;5;28minput\u001b[39m())\n\u001b[1;32m----> 2\u001b[0m \u001b[38;5;28;01massert\u001b[39;00m spam\u001b[38;5;241m>\u001b[39m\u001b[38;5;241m0\u001b[39m,\u001b[38;5;124m\"\u001b[39m\u001b[38;5;124menter positive number\u001b[39m\u001b[38;5;124m\"\u001b[39m\n",
      "\u001b[1;31mAssertionError\u001b[0m: enter positive number"
     ]
    }
   ],
   "source": [
    "spam=int(input())\n",
    "assert spam>0,\"enter positive number\""
   ]
  },
  {
   "cell_type": "raw",
   "id": "6bb3dd6b",
   "metadata": {},
   "source": [
    "2)Write an assert statement that triggers an AssertionError if the variables eggs and bacon contain strings that are the same as each other, even if their cases are different (that is, 'hello' and 'hello' are considered the same, and 'goodbye' and 'GOODbye' are also considered the same)."
   ]
  },
  {
   "cell_type": "code",
   "execution_count": 16,
   "id": "ea32b8b8",
   "metadata": {},
   "outputs": [
    {
     "name": "stdout",
     "output_type": "stream",
     "text": [
      "98\n",
      "98\n"
     ]
    },
    {
     "ename": "AssertionError",
     "evalue": "both the variables are same",
     "output_type": "error",
     "traceback": [
      "\u001b[1;31m---------------------------------------------------------------------------\u001b[0m",
      "\u001b[1;31mAssertionError\u001b[0m                            Traceback (most recent call last)",
      "Input \u001b[1;32mIn [16]\u001b[0m, in \u001b[0;36m<cell line: 3>\u001b[1;34m()\u001b[0m\n\u001b[0;32m      1\u001b[0m egg\u001b[38;5;241m=\u001b[39m\u001b[38;5;28minput\u001b[39m()\n\u001b[0;32m      2\u001b[0m bacon\u001b[38;5;241m=\u001b[39m\u001b[38;5;28minput\u001b[39m()\n\u001b[1;32m----> 3\u001b[0m \u001b[38;5;28;01massert\u001b[39;00m egg\u001b[38;5;241m!=\u001b[39mbacon,\u001b[38;5;124m\"\u001b[39m\u001b[38;5;124mboth the variables are same\u001b[39m\u001b[38;5;124m\"\u001b[39m\n",
      "\u001b[1;31mAssertionError\u001b[0m: both the variables are same"
     ]
    }
   ],
   "source": [
    "egg=input()\n",
    "bacon=input()\n",
    "assert egg!=bacon,\"both the variables are same\""
   ]
  },
  {
   "cell_type": "code",
   "execution_count": 22,
   "id": "f5a9565f",
   "metadata": {},
   "outputs": [
    {
     "ename": "AssertionError",
     "evalue": "['error']",
     "output_type": "error",
     "traceback": [
      "\u001b[1;31m---------------------------------------------------------------------------\u001b[0m",
      "\u001b[1;31mAssertionError\u001b[0m                            Traceback (most recent call last)",
      "Input \u001b[1;32mIn [22]\u001b[0m, in \u001b[0;36m<cell line: 1>\u001b[1;34m()\u001b[0m\n\u001b[1;32m----> 1\u001b[0m \u001b[38;5;28;01massert\u001b[39;00m spam\u001b[38;5;241m>\u001b[39m\u001b[38;5;241m0\u001b[39m,[\u001b[38;5;124m\"\u001b[39m\u001b[38;5;124merror\u001b[39m\u001b[38;5;124m\"\u001b[39m]\n",
      "\u001b[1;31mAssertionError\u001b[0m: ['error']"
     ]
    }
   ],
   "source": [
    "#3\n",
    "assert spam>0,[\"error\"]"
   ]
  },
  {
   "cell_type": "raw",
   "id": "5a576519",
   "metadata": {},
   "source": [
    "4 What are the two lines that must be present in your software in order to call logging.debug()?\n",
    "ans.The two lines are file name and level must be present\n"
   ]
  },
  {
   "cell_type": "raw",
   "id": "e42fa40a",
   "metadata": {},
   "source": [
    "5)What are the two lines that your program must have in order to have logging.debug() send a logging message to a file named programLog.txt?\n",
    "ans. file name, level and format\n"
   ]
  },
  {
   "cell_type": "raw",
   "id": "ed1245be",
   "metadata": {},
   "source": [
    "6)What are the five levels of logging.\n",
    "ans)\n",
    "    1)debug\n",
    "    2)INFO\n",
    "    3)warning\n",
    "    4)ERROR\n",
    "    5)CRITICAL"
   ]
  },
  {
   "cell_type": "raw",
   "id": "aa2a2859",
   "metadata": {},
   "source": [
    "7)What line of code would you add to your software to disable all logging messages\n",
    "ans) We use getlogger() function  "
   ]
  },
  {
   "cell_type": "raw",
   "id": "01585deb",
   "metadata": {},
   "source": [
    "8)Why is using logging messages better than using print() to display the same message?\n",
    "ans) using logging function is better then print() because we can save the message separately in differently file and we can note the timings of loggig in and modified but where as the print function sends the message only during the execution of program. "
   ]
  },
  {
   "cell_type": "raw",
   "id": "0c2089c9",
   "metadata": {},
   "source": [
    "9)What are the differences between the Step Over, Step In, and Step Out buttons in the debugger\n",
    "ans) \n",
    "step over: Step over enables only after the start of execution of step in. step over helps the test steps to execute line by line.but when the procedure is called the entire procedure steps will be executed as single step.\n",
    "\n",
    "step in:step in helps in execute the test steps in line by line.\n",
    "when the procedure gets called it gets into the procedure and debugs the procedure line by line.\n",
    "\n",
    "step out:step out will be enabled only after the cursor gets inside the procedure.the cursor gets inside the procedure only \n"
   ]
  },
  {
   "cell_type": "raw",
   "id": "1629daa6",
   "metadata": {},
   "source": [
    "10)After you click Continue, when will the debugger stop ?\n",
    "ans)once you click on continue the execution will start. it will stop only after the encountering the breakpoint."
   ]
  },
  {
   "cell_type": "raw",
   "id": "e859f326",
   "metadata": {},
   "source": [
    "11)What is the concept of a breakpoint?\n",
    "ans)\n",
    "The breakpoint is the most important debugger technique in developer's toolbox.you set breakpoint wherever you wants to pause the debugger execution.\n"
   ]
  }
 ],
 "metadata": {
  "kernelspec": {
   "display_name": "Python 3 (ipykernel)",
   "language": "python",
   "name": "python3"
  },
  "language_info": {
   "codemirror_mode": {
    "name": "ipython",
    "version": 3
   },
   "file_extension": ".py",
   "mimetype": "text/x-python",
   "name": "python",
   "nbconvert_exporter": "python",
   "pygments_lexer": "ipython3",
   "version": "3.9.12"
  }
 },
 "nbformat": 4,
 "nbformat_minor": 5
}
